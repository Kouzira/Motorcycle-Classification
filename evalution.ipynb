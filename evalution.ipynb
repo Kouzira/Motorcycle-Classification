{
 "cells": [
  {
   "cell_type": "code",
   "execution_count": 7,
   "metadata": {},
   "outputs": [
    {
     "name": "stdout",
     "output_type": "stream",
     "text": [
      "0    [[1.0]]\n",
      "1    [[1.0]]\n",
      "2    [[1.0]]\n",
      "3    [[1.0]]\n",
      "4    [[1.0]]\n",
      "5    [[1.0]]\n",
      "6    [[1.0]]\n",
      "7    [[1.0]]\n",
      "8    [[1.0]]\n",
      "9    [[1.0]]\n",
      "Name: boxes_cls, dtype: object\n"
     ]
    }
   ],
   "source": [
    "import pandas as pd\n",
    "\n",
    "# Đọc file CSV chứa dữ liệu đã xử lý\n",
    "processed_csv_path = r'D:\\CS114.O21.KHCL\\Project\\csv\\MotocycleDataset-Splits-1-Pred.csv'\n",
    "df_processed = pd.read_csv(processed_csv_path)\n",
    "\n",
    "# In ra 10 kết quả đầu tiên của cột 'boxes_cls'\n",
    "print(df_processed['boxes_cls'].head(10))\n"
   ]
  },
  {
   "cell_type": "code",
   "execution_count": 18,
   "metadata": {},
   "outputs": [
    {
     "name": "stdout",
     "output_type": "stream",
     "text": [
      "Đã lưu cột 'int_boxes_cls' vào file CSV: D:\\CS114.O21.KHCL\\Project\\csv\\MotocycleDataset-Splits-1-Pred-processed.csv\n"
     ]
    },
    {
     "name": "stderr",
     "output_type": "stream",
     "text": [
      "C:\\Users\\ASUS\\AppData\\Local\\Temp\\ipykernel_9268\\3504451704.py:25: FutureWarning: A value is trying to be set on a copy of a DataFrame or Series through chained assignment using an inplace method.\n",
      "The behavior will change in pandas 3.0. This inplace method will never work because the intermediate object on which we are setting values always behaves as a copy.\n",
      "\n",
      "For example, when doing 'df[col].method(value, inplace=True)', try using 'df.method({col: value}, inplace=True)' or df[col] = df[col].method(value) instead, to perform the operation inplace on the original object.\n",
      "\n",
      "\n",
      "  df_processed['int_boxes_cls'].fillna(-1, inplace=True)  # Thay thế NaN bằng -1 hoặc giá trị phù hợp khác\n"
     ]
    }
   ],
   "source": [
    "import pandas as pd\n",
    "import ast\n",
    "\n",
    "# Đọc file CSV chứa dữ liệu đã xử lý\n",
    "processed_csv_path = r'D:\\CS114.O21.KHCL\\Project\\csv\\MotocycleDataset-Splits-1-Pred.csv'\n",
    "df_processed = pd.read_csv(processed_csv_path)\n",
    "\n",
    "# Hàm để chuyển đổi chuỗi danh sách thành số nguyên (lấy giá trị đầu tiên)\n",
    "def parse_boxes_cls(boxes_cls_str):\n",
    "    try:\n",
    "        # Chuyển đổi chuỗi danh sách thành danh sách Python\n",
    "        boxes_cls_list = ast.literal_eval(boxes_cls_str)\n",
    "        \n",
    "        # Lấy giá trị số nguyên từ danh sách\n",
    "        int_value = int(boxes_cls_list[0][0])  # Lấy giá trị từ [[2.0, 1.0]] thành 2\n",
    "        \n",
    "        return int_value\n",
    "    except:\n",
    "        return None\n",
    "\n",
    "# Áp dụng hàm parse_boxes_cls lên cột boxes_cls\n",
    "df_processed['int_boxes_cls'] = df_processed['boxes_cls'].apply(parse_boxes_cls)\n",
    "\n",
    "# Kiểm tra và xử lý giá trị NaN\n",
    "df_processed['int_boxes_cls'].fillna(-1, inplace=True)  # Thay thế NaN bằng -1 hoặc giá trị phù hợp khác\n",
    "\n",
    "# Chuyển đổi lại sang kiểu số nguyên\n",
    "df_processed['int_boxes_cls'] = df_processed['int_boxes_cls'].astype(int)\n",
    "\n",
    "# Lựa chọn chỉ cột 'image_path' và 'int_boxes_cls'\n",
    "df_result = df_processed[['image_path', 'int_boxes_cls']]\n",
    "\n",
    "# Lưu cột 'int_boxes_cls' vào file CSV mới\n",
    "output_csv_path = r'D:\\CS114.O21.KHCL\\Project\\csv\\MotocycleDataset-Splits-1-Pred-processed.csv'\n",
    "df_result.to_csv(output_csv_path, index=False)\n",
    "\n",
    "print(f\"Đã lưu cột 'int_boxes_cls' vào file CSV: {output_csv_path}\")\n"
   ]
  },
  {
   "cell_type": "code",
   "execution_count": 22,
   "metadata": {},
   "outputs": [],
   "source": [
    "import pandas as pd\n",
    "\n",
    "# Đường dẫn tới hai file CSV\n",
    "test_csv_path = r'D:\\CS114.O21.KHCL\\Project\\csv\\MotocycleDataset-Splits-1-Test.csv'\n",
    "pred_csv_path = r'D:\\CS114.O21.KHCL\\Project\\csv\\MotocycleDataset-Splits-1-Pred-processed.csv'\n",
    "\n",
    "# Đọc dữ liệu từ hai file CSV vào DataFrame\n",
    "df_test = pd.read_csv(test_csv_path)\n",
    "df_pred = pd.read_csv(pred_csv_path)"
   ]
  },
  {
   "cell_type": "code",
   "execution_count": 23,
   "metadata": {},
   "outputs": [
    {
     "name": "stdout",
     "output_type": "stream",
     "text": [
      "Các cột trong df_test: Index(['Honda/22520968-22520996-22520999-22520929-22521373.Honda.790.jpg', '1'], dtype='object')\n",
      "Các cột trong df_pred: Index(['image_path', 'int_boxes_cls'], dtype='object')\n"
     ]
    }
   ],
   "source": [
    "# In ra danh sách các tên cột trong DataFrame df_test\n",
    "print(\"Các cột trong df_test:\", df_test.columns)\n",
    "\n",
    "# In ra danh sách các tên cột trong DataFrame df_pred\n",
    "print(\"Các cột trong df_pred:\", df_pred.columns)"
   ]
  },
  {
   "cell_type": "code",
   "execution_count": 27,
   "metadata": {},
   "outputs": [
    {
     "name": "stdout",
     "output_type": "stream",
     "text": [
      "Các cột trong df_test sau khi đổi tên: Index(['image_path', 'label'], dtype='object')\n"
     ]
    }
   ],
   "source": [
    "# Đổi tên cột trong df_test để phù hợp với việc trích xuất đường dẫn hình ảnh\n",
    "df_test.columns = ['image_path', 'label']\n",
    "\n",
    "# In ra danh sách các tên cột đã được đổi trong df_test\n",
    "print(\"Các cột trong df_test sau khi đổi tên:\", df_test.columns)"
   ]
  },
  {
   "cell_type": "code",
   "execution_count": 28,
   "metadata": {},
   "outputs": [
    {
     "name": "stdout",
     "output_type": "stream",
     "text": [
      "Đã lưu các hàng tồn tại ở cả hai file vào D:\\CS114.O21.KHCL\\Project\\csv\\Merged_Test_Pred.csv\n"
     ]
    }
   ],
   "source": [
    "# Thực hiện inner join dựa trên cột 'image_path' để lấy các hàng tồn tại ở cả hai file\n",
    "merged_df = pd.merge(df_test, df_pred, on='image_path', how='inner')\n",
    "\n",
    "# Lưu kết quả vào file CSV mới\n",
    "output_csv_path = r'D:\\CS114.O21.KHCL\\Project\\csv\\Merged_Test_Pred.csv'\n",
    "merged_df.to_csv(output_csv_path, index=False)\n",
    "\n",
    "print(f\"Đã lưu các hàng tồn tại ở cả hai file vào {output_csv_path}\")\n"
   ]
  },
  {
   "cell_type": "code",
   "execution_count": 29,
   "metadata": {},
   "outputs": [
    {
     "name": "stdout",
     "output_type": "stream",
     "text": [
      "Tỷ lệ phần trăm dự đoán đúng: 82.03%\n"
     ]
    }
   ],
   "source": [
    "# Tính số lượng dự đoán đúng\n",
    "correct_predictions = merged_df[merged_df['int_boxes_cls'] == merged_df['label']]\n",
    "\n",
    "# Tính tỷ lệ phần trăm dự đoán đúng\n",
    "accuracy_percentage = (len(correct_predictions) / len(merged_df)) * 100\n",
    "print(f\"Tỷ lệ phần trăm dự đoán đúng: {accuracy_percentage:.2f}%\")"
   ]
  }
 ],
 "metadata": {
  "kernelspec": {
   "display_name": "Python 3",
   "language": "python",
   "name": "python3"
  },
  "language_info": {
   "codemirror_mode": {
    "name": "ipython",
    "version": 3
   },
   "file_extension": ".py",
   "mimetype": "text/x-python",
   "name": "python",
   "nbconvert_exporter": "python",
   "pygments_lexer": "ipython3",
   "version": "3.12.2"
  }
 },
 "nbformat": 4,
 "nbformat_minor": 2
}
